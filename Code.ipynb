{
 "cells": [
  {
   "cell_type": "code",
   "execution_count": 2,
   "id": "4be2078c-c772-4022-8964-8ac431b57f11",
   "metadata": {},
   "outputs": [],
   "source": [
    "import pandas as pd\n",
    "from sklearn.linear_model import LinearRegression\n",
    "import statsmodels\n",
    "import statsmodels.api as sm\n",
    "\n",
    "import numpy as np\n",
    "\n",
    "import sklearn\n",
    "from sklearn.linear_model import LogisticRegression\n",
    "from sklearn.metrics import confusion_matrix\n",
    "\n",
    "import matplotlib.pyplot as plt\n",
    "import seaborn as sn\n",
    "\n",
    "pd.set_option('display.max_rows', 300) # specifies number of rows to show\n",
    "pd.options.display.float_format = '{:40,.2f}'.format # specifies default number format to 4 decimal places\n",
    "plt.style.use('ggplot') # specifies that graphs should use ggplot styling\n",
    "%matplotlib inline"
   ]
  },
  {
   "cell_type": "code",
   "execution_count": 3,
   "id": "00621b91-b8e1-466a-be2c-1100b8a74e25",
   "metadata": {},
   "outputs": [
    {
     "name": "stdout",
     "output_type": "stream",
     "text": [
      "statsmodels version:  0.14.0\n",
      "pandas version:  2.1.0\n"
     ]
    }
   ],
   "source": [
    "import statsmodels\n",
    "print(\"statsmodels version: \", statsmodels.__version__)\n",
    "print(\"pandas version: \", pd.__version__)"
   ]
  },
  {
   "cell_type": "markdown",
   "id": "af0337ba-cbe6-4e77-a57b-a150db0db7cc",
   "metadata": {},
   "source": [
    "# Data Cleaning"
   ]
  },
  {
   "cell_type": "code",
   "execution_count": 4,
   "id": "600abb9e-a838-4733-a3dd-acd0fd878bd6",
   "metadata": {},
   "outputs": [
    {
     "name": "stdout",
     "output_type": "stream",
     "text": [
      "         Code                    Area  Recycling_rate\n",
      "0   E09000002    Barking and Dagenham              25\n",
      "1   E09000003                  Barnet              32\n",
      "2   E09000004                  Bexley              54\n",
      "3   E09000005                   Brent              34\n",
      "4   E09000006                 Bromley              51\n",
      "5   E09000007                  Camden              26\n",
      "6   E09000008                 Croydon              49\n",
      "7   E09000009                  Ealing              48\n",
      "8   E09000010                 Enfield              33\n",
      "9   E09000011               Greenwich              33\n",
      "10  E09000012                 Hackney              28\n",
      "11  E09000013  Hammersmith and Fulham              26\n",
      "12  E09000014                Haringey              30\n",
      "13  E09000015                  Harrow              39\n",
      "14  E09000016                Havering              38\n",
      "15  E09000017              Hillingdon              37\n",
      "16  E09000018                Hounslow              32\n",
      "17  E09000019               Islington              30\n",
      "18  E09000020  Kensington and Chelsea              29\n",
      "19  E09000021    Kingston upon Thames              49\n",
      "20  E09000022                 Lambeth              32\n",
      "21  E09000023                Lewisham              27\n",
      "22  E09000024                  Merton              42\n",
      "23  E09000025                  Newham              20\n",
      "24  E09000026               Redbridge              25\n",
      "25  E09000027    Richmond upon Thames              44\n",
      "26  E09000028               Southwark              35\n",
      "27  E09000029                  Sutton              49\n",
      "28  E09000030           Tower Hamlets              22\n",
      "29  E09000031          Waltham Forest              32\n",
      "30  E09000032              Wandsworth              24\n",
      "31  E09000033             Westminster              20\n"
     ]
    }
   ],
   "source": [
    "recycle = pd.read_csv('recycling_rate.csv')\n",
    "print(recycle)"
   ]
  },
  {
   "cell_type": "code",
   "execution_count": 5,
   "id": "54d9d02c-d4ad-4393-9266-46f3b1fcd2ba",
   "metadata": {},
   "outputs": [
    {
     "name": "stdout",
     "output_type": "stream",
     "text": [
      "         Code                    Area                              Percent_edu\n",
      "0   E09000002    Barking and Dagenham                                    33.10\n",
      "1   E09000003                  Barnet                                    53.20\n",
      "2   E09000004                  Bexley                                    35.50\n",
      "3   E09000005                   Brent                                    47.70\n",
      "4   E09000006                 Bromley                                    54.10\n",
      "5   E09000007                  Camden                                    60.90\n",
      "6   E09000008                 Croydon                                    42.90\n",
      "7   E09000009                  Ealing                                    58.70\n",
      "8   E09000010                 Enfield                                    40.00\n",
      "9   E09000011               Greenwich                                    49.70\n",
      "10  E09000012                 Hackney                                    57.40\n",
      "11  E09000013  Hammersmith and Fulham                                    70.00\n",
      "12  E09000014                Haringey                                    59.00\n",
      "13  E09000015                  Harrow                                    50.10\n",
      "14  E09000016                Havering                                    33.70\n",
      "15  E09000017              Hillingdon                                    51.90\n",
      "16  E09000018                Hounslow                                    55.20\n",
      "17  E09000019               Islington                                    61.70\n",
      "18  E09000020  Kensington and Chelsea                                    65.50\n",
      "19  E09000021    Kingston upon Thames                                    59.30\n",
      "20  E09000022                 Lambeth                                    63.80\n",
      "21  E09000023                Lewisham                                    60.20\n",
      "22  E09000024                  Merton                                    60.00\n",
      "23  E09000025                  Newham                                    44.00\n",
      "24  E09000026               Redbridge                                    45.60\n",
      "25  E09000027    Richmond upon Thames                                    65.40\n",
      "26  E09000028               Southwark                                    62.00\n",
      "27  E09000029                  Sutton                                    45.90\n",
      "28  E09000030           Tower Hamlets                                    60.50\n",
      "29  E09000031          Waltham Forest                                    50.20\n",
      "30  E09000032              Wandsworth                                    71.60\n",
      "31  E09000033             Westminster                                    65.50\n"
     ]
    }
   ],
   "source": [
    "education = pd.read_csv('education_qualifications.csv')\n",
    "print(education)"
   ]
  },
  {
   "cell_type": "code",
   "execution_count": 6,
   "id": "59c467a0-7596-4d03-a1d5-0d030a9b30e1",
   "metadata": {},
   "outputs": [
    {
     "name": "stdout",
     "output_type": "stream",
     "text": [
      "         Code                    Area  Income\n",
      "0   E09000002    Barking and Dagenham   29400\n",
      "1   E09000003                  Barnet   51600\n",
      "2   E09000004                  Bexley   36000\n",
      "3   E09000005                   Brent   37800\n",
      "4   E09000006                 Bromley   48200\n",
      "5   E09000007                  Camden   96900\n",
      "6   E09000008                 Croydon   37800\n",
      "7   E09000009                  Ealing   42700\n",
      "8   E09000010                 Enfield   39500\n",
      "9   E09000011               Greenwich   44700\n",
      "10  E09000012                 Hackney   47200\n",
      "11  E09000013  Hammersmith and Fulham   75900\n",
      "12  E09000014                Haringey   48600\n",
      "13  E09000015                  Harrow   41500\n",
      "14  E09000016                Havering   38100\n",
      "15  E09000017              Hillingdon   37300\n",
      "16  E09000018                Hounslow   41700\n",
      "17  E09000019               Islington   66100\n",
      "18  E09000020  Kensington and Chelsea  185000\n",
      "19  E09000021    Kingston upon Thames   50500\n",
      "20  E09000022                 Lambeth   49100\n",
      "21  E09000023                Lewisham   41100\n",
      "22  E09000024                  Merton   55300\n",
      "23  E09000025                  Newham   31700\n",
      "24  E09000026               Redbridge   38500\n",
      "25  E09000027    Richmond upon Thames   77400\n",
      "26  E09000028               Southwark   53400\n",
      "27  E09000029                  Sutton   40200\n",
      "28  E09000030           Tower Hamlets   50100\n",
      "29  E09000031          Waltham Forest   34900\n",
      "30  E09000032              Wandsworth   72400\n",
      "31  E09000033             Westminster  118000\n"
     ]
    }
   ],
   "source": [
    "income = pd.read_csv('income_taxpayers.csv')\n",
    "print(income)"
   ]
  },
  {
   "cell_type": "code",
   "execution_count": 7,
   "id": "65361fac-838e-4a0b-af70-89d1513fddf1",
   "metadata": {},
   "outputs": [
    {
     "name": "stdout",
     "output_type": "stream",
     "text": [
      "         Code                    Area                     Homeownership_number\n",
      "0   E09000002    Barking and Dagenham                                76,200.00\n",
      "1   E09000003                  Barnet                               146,100.00\n",
      "2   E09000004                  Bexley                                98,400.00\n",
      "3   E09000005                   Brent                               122,100.00\n",
      "4   E09000006                 Bromley                               129,800.00\n",
      "5   E09000007                  Camden                               115,200.00\n",
      "6   E09000008                 Croydon                               147,200.00\n",
      "7   E09000009                  Ealing                               121,100.00\n",
      "8   E09000010                 Enfield                               126,000.00\n",
      "9   E09000011               Greenwich                               105,100.00\n",
      "10  E09000012                 Hackney                               108,400.00\n",
      "11  E09000013  Hammersmith and Fulham                                76,900.00\n",
      "12  E09000014                Haringey                               112,700.00\n",
      "13  E09000015                  Harrow                                89,800.00\n",
      "14  E09000016                Havering                               103,200.00\n",
      "15  E09000017              Hillingdon                               114,000.00\n",
      "16  E09000018                Hounslow                               105,900.00\n",
      "17  E09000019               Islington                               108,300.00\n",
      "18  E09000020  Kensington and Chelsea                                74,800.00\n",
      "19  E09000021    Kingston upon Thames                                69,600.00\n",
      "20  E09000022                 Lambeth                               126,800.00\n",
      "21  E09000023                Lewisham                               124,500.00\n",
      "22  E09000024                  Merton                                78,500.00\n",
      "23  E09000025                  Newham                               128,900.00\n",
      "24  E09000026               Redbridge                               106,000.00\n",
      "25  E09000027    Richmond upon Thames                                77,400.00\n",
      "26  E09000028               Southwark                               129,200.00\n",
      "27  E09000029                  Sutton                                79,200.00\n",
      "28  E09000030           Tower Hamlets                               126,500.00\n",
      "29  E09000031          Waltham Forest                               108,800.00\n",
      "30  E09000032              Wandsworth                               134,100.00\n",
      "31  E09000033             Westminster                               117,200.00\n"
     ]
    }
   ],
   "source": [
    "homeownership = pd.read_csv('tenure_households.csv')\n",
    "print(homeownership)"
   ]
  },
  {
   "cell_type": "code",
   "execution_count": 8,
   "id": "3e91aae8-cf92-4b6f-9b17-fd6a5d33ff81",
   "metadata": {},
   "outputs": [
    {
     "name": "stdout",
     "output_type": "stream",
     "text": [
      "    Recycling_rate                              Percent_edu  Income  \\\n",
      "0               25                                    33.10   29400   \n",
      "1               32                                    53.20   51600   \n",
      "2               54                                    35.50   36000   \n",
      "3               34                                    47.70   37800   \n",
      "4               51                                    54.10   48200   \n",
      "5               26                                    60.90   96900   \n",
      "6               49                                    42.90   37800   \n",
      "7               48                                    58.70   42700   \n",
      "8               33                                    40.00   39500   \n",
      "9               33                                    49.70   44700   \n",
      "10              28                                    57.40   47200   \n",
      "11              26                                    70.00   75900   \n",
      "12              30                                    59.00   48600   \n",
      "13              39                                    50.10   41500   \n",
      "14              38                                    33.70   38100   \n",
      "15              37                                    51.90   37300   \n",
      "16              32                                    55.20   41700   \n",
      "17              30                                    61.70   66100   \n",
      "18              29                                    65.50  185000   \n",
      "19              49                                    59.30   50500   \n",
      "20              32                                    63.80   49100   \n",
      "21              27                                    60.20   41100   \n",
      "22              42                                    60.00   55300   \n",
      "23              20                                    44.00   31700   \n",
      "24              25                                    45.60   38500   \n",
      "25              44                                    65.40   77400   \n",
      "26              35                                    62.00   53400   \n",
      "27              49                                    45.90   40200   \n",
      "28              22                                    60.50   50100   \n",
      "29              32                                    50.20   34900   \n",
      "30              24                                    71.60   72400   \n",
      "31              20                                    65.50  118000   \n",
      "\n",
      "                       Homeownership_number  \n",
      "0                                 76,200.00  \n",
      "1                                146,100.00  \n",
      "2                                 98,400.00  \n",
      "3                                122,100.00  \n",
      "4                                129,800.00  \n",
      "5                                115,200.00  \n",
      "6                                147,200.00  \n",
      "7                                121,100.00  \n",
      "8                                126,000.00  \n",
      "9                                105,100.00  \n",
      "10                               108,400.00  \n",
      "11                                76,900.00  \n",
      "12                               112,700.00  \n",
      "13                                89,800.00  \n",
      "14                               103,200.00  \n",
      "15                               114,000.00  \n",
      "16                               105,900.00  \n",
      "17                               108,300.00  \n",
      "18                                74,800.00  \n",
      "19                                69,600.00  \n",
      "20                               126,800.00  \n",
      "21                               124,500.00  \n",
      "22                                78,500.00  \n",
      "23                               128,900.00  \n",
      "24                               106,000.00  \n",
      "25                                77,400.00  \n",
      "26                               129,200.00  \n",
      "27                                79,200.00  \n",
      "28                               126,500.00  \n",
      "29                               108,800.00  \n",
      "30                               134,100.00  \n",
      "31                               117,200.00  \n"
     ]
    }
   ],
   "source": [
    "merged_df = pd.merge(recycle, education, on=['Code', 'Area'], how='left')\n",
    "merged_df = pd.merge(merged_df, income, on=['Code', 'Area'], how='left')\n",
    "merged_df = pd.merge(merged_df, homeownership, on=['Code', 'Area'], how='left')\n",
    "merged_df = merged_df.drop(columns=['Code', 'Area'])\n",
    "print(merged_df)"
   ]
  },
  {
   "cell_type": "code",
   "execution_count": 9,
   "id": "d0ae748b-090e-4506-a437-02682a88e5e8",
   "metadata": {},
   "outputs": [
    {
     "data": {
      "text/html": [
       "<div>\n",
       "<style scoped>\n",
       "    .dataframe tbody tr th:only-of-type {\n",
       "        vertical-align: middle;\n",
       "    }\n",
       "\n",
       "    .dataframe tbody tr th {\n",
       "        vertical-align: top;\n",
       "    }\n",
       "\n",
       "    .dataframe thead th {\n",
       "        text-align: right;\n",
       "    }\n",
       "</style>\n",
       "<table border=\"1\" class=\"dataframe\">\n",
       "  <thead>\n",
       "    <tr style=\"text-align: right;\">\n",
       "      <th></th>\n",
       "      <th>Recycling_rate</th>\n",
       "      <th>Percent_edu</th>\n",
       "      <th>Income</th>\n",
       "      <th>Homeownership_number</th>\n",
       "    </tr>\n",
       "  </thead>\n",
       "  <tbody>\n",
       "    <tr>\n",
       "      <th>0</th>\n",
       "      <td>25</td>\n",
       "      <td>33.10</td>\n",
       "      <td>29400</td>\n",
       "      <td>76,200.00</td>\n",
       "    </tr>\n",
       "    <tr>\n",
       "      <th>1</th>\n",
       "      <td>32</td>\n",
       "      <td>53.20</td>\n",
       "      <td>51600</td>\n",
       "      <td>146,100.00</td>\n",
       "    </tr>\n",
       "    <tr>\n",
       "      <th>2</th>\n",
       "      <td>54</td>\n",
       "      <td>35.50</td>\n",
       "      <td>36000</td>\n",
       "      <td>98,400.00</td>\n",
       "    </tr>\n",
       "    <tr>\n",
       "      <th>3</th>\n",
       "      <td>34</td>\n",
       "      <td>47.70</td>\n",
       "      <td>37800</td>\n",
       "      <td>122,100.00</td>\n",
       "    </tr>\n",
       "    <tr>\n",
       "      <th>4</th>\n",
       "      <td>51</td>\n",
       "      <td>54.10</td>\n",
       "      <td>48200</td>\n",
       "      <td>129,800.00</td>\n",
       "    </tr>\n",
       "  </tbody>\n",
       "</table>\n",
       "</div>"
      ],
      "text/plain": [
       "   Recycling_rate                              Percent_edu  Income  \\\n",
       "0              25                                    33.10   29400   \n",
       "1              32                                    53.20   51600   \n",
       "2              54                                    35.50   36000   \n",
       "3              34                                    47.70   37800   \n",
       "4              51                                    54.10   48200   \n",
       "\n",
       "                      Homeownership_number  \n",
       "0                                76,200.00  \n",
       "1                               146,100.00  \n",
       "2                                98,400.00  \n",
       "3                               122,100.00  \n",
       "4                               129,800.00  "
      ]
     },
     "execution_count": 9,
     "metadata": {},
     "output_type": "execute_result"
    }
   ],
   "source": [
    "merged_df.head()"
   ]
  },
  {
   "cell_type": "code",
   "execution_count": 51,
   "id": "683386e0-ff50-42e3-ad86-dedb7cc11a01",
   "metadata": {},
   "outputs": [
    {
     "name": "stdout",
     "output_type": "stream",
     "text": [
      "<class 'pandas.core.frame.DataFrame'>\n",
      "RangeIndex: 32 entries, 0 to 31\n",
      "Data columns (total 4 columns):\n",
      " #   Column                Non-Null Count  Dtype  \n",
      "---  ------                --------------  -----  \n",
      " 0   Recycling_rate        32 non-null     int64  \n",
      " 1   Percent_edu           32 non-null     float64\n",
      " 2   Income                32 non-null     int64  \n",
      " 3   Homeownership_number  32 non-null     float64\n",
      "dtypes: float64(2), int64(2)\n",
      "memory usage: 1.1 KB\n"
     ]
    }
   ],
   "source": [
    "merged_df.info()"
   ]
  },
  {
   "cell_type": "markdown",
   "id": "628eefc0-baba-490a-b93a-e9b548b9a33b",
   "metadata": {},
   "source": [
    "## Checking the correlation between variables"
   ]
  },
  {
   "cell_type": "code",
   "execution_count": 52,
   "id": "97612b7a-46db-47b0-bb27-9faf2cc5fe04",
   "metadata": {},
   "outputs": [
    {
     "data": {
      "text/plain": [
       "Text(0.5, 1.0, 'Correlation Matrix')"
      ]
     },
     "execution_count": 52,
     "metadata": {},
     "output_type": "execute_result"
    },
    {
     "data": {
      "image/png": "[encoded data removed]",
      "text/plain": [
       "<Figure size 1900x1500 with 2 Axes>"
      ]
     },
     "metadata": {},
     "output_type": "display_data"
    }
   ],
   "source": [
    "df = merged_df\n",
    "plt.rcParams[\"axes.grid\"] = False\n",
    "f = plt.figure(figsize=(19, 15))\n",
    "plt.matshow(df.corr(), fignum=f.number)\n",
    "plt.xticks(range(df.shape[1]), df.columns, fontsize=14, rotation=90)\n",
    "plt.yticks(range(df.shape[1]), df.columns, fontsize=14)\n",
    "cb = plt.colorbar()\n",
    "cb.ax.tick_params(labelsize=14)\n",
    "plt.title('Correlation Matrix', fontsize=16)"
   ]
  },
  {
   "cell_type": "markdown",
   "id": "3218a2fd-f821-4d97-b468-4189fec20e15",
   "metadata": {},
   "source": [
    "# Building and interpreting a linear regression model"
   ]
  },
  {
   "cell_type": "code",
   "execution_count": 58,
   "id": "d02a33f2-40e9-432d-a4ff-f4c0c7693fd3",
   "metadata": {},
   "outputs": [],
   "source": [
    "# calculating VIF\n",
    "from statsmodels.stats.outliers_influence import variance_inflation_factor \n",
    "from statsmodels.tools.tools import add_constant\n",
    "\n",
    "def drop_column_using_vif_(df, thresh=5):\n",
    "    '''\n",
    "    Calculates VIF each feature in a pandas dataframe, and repeatedly drop the columns with the highest VIF\n",
    "    A constant must be added to variance_inflation_factor or the results will be incorrect\n",
    "\n",
    "    :param df: the pandas dataframe containing only the predictor features, not the response variable\n",
    "    :param thresh: (default 5) the threshould VIF value. If the VIF of a variable is greater than thresh, it should be removed from the dataframe\n",
    "    :return: dataframe with multicollinear features removed\n",
    "    '''\n",
    "    while True:\n",
    "        # adding a constatnt item to the data. add_constant is a function from statsmodels (see the import above)\n",
    "        df_with_const = add_constant(df)\n",
    "\n",
    "        vif_df = pd.Series([variance_inflation_factor(df_with_const.values, i) \n",
    "               for i in range(df_with_const.shape[1])], name= \"VIF\",\n",
    "              index=df_with_const.columns).to_frame()\n",
    "\n",
    "        # drop the const\n",
    "        vif_df = vif_df.drop('const')\n",
    "        \n",
    "        # if the largest VIF is above the thresh, remove a variable with the largest VIF\n",
    "        # If there are multiple variabels with VIF>thresh, only one of them is removed. This is because we want to keep as many variables as possible\n",
    "        if vif_df.VIF.max() > thresh:\n",
    "            # If there are multiple variables with the maximum VIF, choose the first one\n",
    "            index_to_drop = vif_df.index[vif_df.VIF == vif_df.VIF.max()].tolist()[0]\n",
    "            print('Dropping: {}'.format(index_to_drop))\n",
    "            df = df.drop(columns = index_to_drop)\n",
    "        else:\n",
    "            # No VIF is above threshold. Exit the loop\n",
    "            break\n",
    "\n",
    "    return df"
   ]
  },
  {
   "cell_type": "code",
   "execution_count": 59,
   "id": "989926d9-dc9a-4df5-8b77-be5d6689644c",
   "metadata": {},
   "outputs": [
    {
     "name": "stdout",
     "output_type": "stream",
     "text": [
      "The columns remaining after VIF selection are:\n",
      "Index(['Percent_edu', 'Income', 'Homeownership_number'], dtype='object')\n"
     ]
    }
   ],
   "source": [
    "merged_df_VIF = drop_column_using_vif_(merged_df.drop('Recycling_rate', axis=1))\n",
    "# Note that there is a 'while' loop in the drop_column_using_vif_. In each iteration, one variable is dropped.\n",
    "print(\"The columns remaining after VIF selection are:\")\n",
    "print(merged_df_VIF.columns)"
   ]
  },
  {
   "cell_type": "code",
   "execution_count": 62,
   "id": "adba76b4-033d-4d30-adaf-fd72bb5603fe",
   "metadata": {},
   "outputs": [
    {
     "data": {
      "text/html": [
       "<table class=\"simpletable\">\n",
       "<caption>OLS Regression Results</caption>\n",
       "<tr>\n",
       "  <th>Dep. Variable:</th>     <td>Recycling_rate</td>  <th>  R-squared:         </th> <td>   0.145</td>\n",
       "</tr>\n",
       "<tr>\n",
       "  <th>Model:</th>                   <td>OLS</td>       <th>  Adj. R-squared:    </th> <td>   0.053</td>\n",
       "</tr>\n",
       "<tr>\n",
       "  <th>Method:</th>             <td>Least Squares</td>  <th>  F-statistic:       </th> <td>   1.577</td>\n",
       "</tr>\n",
       "<tr>\n",
       "  <th>Date:</th>             <td>Sun, 14 Jan 2024</td> <th>  Prob (F-statistic):</th>  <td> 0.217</td> \n",
       "</tr>\n",
       "<tr>\n",
       "  <th>Time:</th>                 <td>23:47:45</td>     <th>  Log-Likelihood:    </th> <td> -114.79</td>\n",
       "</tr>\n",
       "<tr>\n",
       "  <th>No. Observations:</th>      <td>    32</td>      <th>  AIC:               </th> <td>   237.6</td>\n",
       "</tr>\n",
       "<tr>\n",
       "  <th>Df Residuals:</th>          <td>    28</td>      <th>  BIC:               </th> <td>   243.4</td>\n",
       "</tr>\n",
       "<tr>\n",
       "  <th>Df Model:</th>              <td>     3</td>      <th>                     </th>     <td> </td>   \n",
       "</tr>\n",
       "<tr>\n",
       "  <th>Covariance Type:</th>      <td>nonrobust</td>    <th>                     </th>     <td> </td>   \n",
       "</tr>\n",
       "</table>\n",
       "<table class=\"simpletable\">\n",
       "<tr>\n",
       "            <td></td>              <th>coef</th>     <th>std err</th>      <th>t</th>      <th>P>|t|</th>  <th>[0.025</th>    <th>0.975]</th>  \n",
       "</tr>\n",
       "<tr>\n",
       "  <th>const</th>                <td>   56.8126</td> <td>   12.441</td> <td>    4.566</td> <td> 0.000</td> <td>   31.328</td> <td>   82.297</td>\n",
       "</tr>\n",
       "<tr>\n",
       "  <th>Percent_edu</th>          <td>   -0.1150</td> <td>    0.203</td> <td>   -0.568</td> <td> 0.575</td> <td>   -0.530</td> <td>    0.300</td>\n",
       "</tr>\n",
       "<tr>\n",
       "  <th>Income</th>               <td>-7.947e-05</td> <td> 7.03e-05</td> <td>   -1.131</td> <td> 0.268</td> <td>   -0.000</td> <td> 6.45e-05</td>\n",
       "</tr>\n",
       "<tr>\n",
       "  <th>Homeownership_number</th> <td>   -0.0001</td> <td> 8.11e-05</td> <td>   -1.357</td> <td> 0.186</td> <td>   -0.000</td> <td> 5.61e-05</td>\n",
       "</tr>\n",
       "</table>\n",
       "<table class=\"simpletable\">\n",
       "<tr>\n",
       "  <th>Omnibus:</th>       <td> 0.823</td> <th>  Durbin-Watson:     </th> <td>   1.684</td>\n",
       "</tr>\n",
       "<tr>\n",
       "  <th>Prob(Omnibus):</th> <td> 0.663</td> <th>  Jarque-Bera (JB):  </th> <td>   0.788</td>\n",
       "</tr>\n",
       "<tr>\n",
       "  <th>Skew:</th>          <td> 0.343</td> <th>  Prob(JB):          </th> <td>   0.674</td>\n",
       "</tr>\n",
       "<tr>\n",
       "  <th>Kurtosis:</th>      <td> 2.651</td> <th>  Cond. No.          </th> <td>9.32e+05</td>\n",
       "</tr>\n",
       "</table><br/><br/>Notes:<br/>[1] Standard Errors assume that the covariance matrix of the errors is correctly specified.<br/>[2] The condition number is large, 9.32e+05. This might indicate that there are<br/>strong multicollinearity or other numerical problems."
      ],
      "text/latex": [
       "\\begin{center}\n",
       "\\begin{tabular}{lclc}\n",
       "\\toprule\n",
       "\\textbf{Dep. Variable:}        & Recycling\\_rate  & \\textbf{  R-squared:         } &     0.145   \\\\\n",
       "\\textbf{Model:}                &       OLS        & \\textbf{  Adj. R-squared:    } &     0.053   \\\\\n",
       "\\textbf{Method:}               &  Least Squares   & \\textbf{  F-statistic:       } &     1.577   \\\\\n",
       "\\textbf{Date:}                 & Sun, 14 Jan 2024 & \\textbf{  Prob (F-statistic):} &    0.217    \\\\\n",
       "\\textbf{Time:}                 &     23:47:45     & \\textbf{  Log-Likelihood:    } &   -114.79   \\\\\n",
       "\\textbf{No. Observations:}     &          32      & \\textbf{  AIC:               } &     237.6   \\\\\n",
       "\\textbf{Df Residuals:}         &          28      & \\textbf{  BIC:               } &     243.4   \\\\\n",
       "\\textbf{Df Model:}             &           3      & \\textbf{                     } &             \\\\\n",
       "\\textbf{Covariance Type:}      &    nonrobust     & \\textbf{                     } &             \\\\\n",
       "\\bottomrule\n",
       "\\end{tabular}\n",
       "\\begin{tabular}{lcccccc}\n",
       "                               & \\textbf{coef} & \\textbf{std err} & \\textbf{t} & \\textbf{P$> |$t$|$} & \\textbf{[0.025} & \\textbf{0.975]}  \\\\\n",
       "\\midrule\n",
       "\\textbf{const}                 &      56.8126  &       12.441     &     4.566  &         0.000        &       31.328    &       82.297     \\\\\n",
       "\\textbf{Percent\\_edu}          &      -0.1150  &        0.203     &    -0.568  &         0.575        &       -0.530    &        0.300     \\\\\n",
       "\\textbf{Income}                &   -7.947e-05  &     7.03e-05     &    -1.131  &         0.268        &       -0.000    &     6.45e-05     \\\\\n",
       "\\textbf{Homeownership\\_number} &      -0.0001  &     8.11e-05     &    -1.357  &         0.186        &       -0.000    &     5.61e-05     \\\\\n",
       "\\bottomrule\n",
       "\\end{tabular}\n",
       "\\begin{tabular}{lclc}\n",
       "\\textbf{Omnibus:}       &  0.823 & \\textbf{  Durbin-Watson:     } &    1.684  \\\\\n",
       "\\textbf{Prob(Omnibus):} &  0.663 & \\textbf{  Jarque-Bera (JB):  } &    0.788  \\\\\n",
       "\\textbf{Skew:}          &  0.343 & \\textbf{  Prob(JB):          } &    0.674  \\\\\n",
       "\\textbf{Kurtosis:}      &  2.651 & \\textbf{  Cond. No.          } & 9.32e+05  \\\\\n",
       "\\bottomrule\n",
       "\\end{tabular}\n",
       "%\\caption{OLS Regression Results}\n",
       "\\end{center}\n",
       "\n",
       "Notes: \\newline\n",
       " [1] Standard Errors assume that the covariance matrix of the errors is correctly specified. \\newline\n",
       " [2] The condition number is large, 9.32e+05. This might indicate that there are \\newline\n",
       " strong multicollinearity or other numerical problems."
      ],
      "text/plain": [
       "<class 'statsmodels.iolib.summary.Summary'>\n",
       "\"\"\"\n",
       "                            OLS Regression Results                            \n",
       "==============================================================================\n",
       "Dep. Variable:         Recycling_rate   R-squared:                       0.145\n",
       "Model:                            OLS   Adj. R-squared:                  0.053\n",
       "Method:                 Least Squares   F-statistic:                     1.577\n",
       "Date:                Sun, 14 Jan 2024   Prob (F-statistic):              0.217\n",
       "Time:                        23:47:45   Log-Likelihood:                -114.79\n",
       "No. Observations:                  32   AIC:                             237.6\n",
       "Df Residuals:                      28   BIC:                             243.4\n",
       "Df Model:                           3                                         \n",
       "Covariance Type:            nonrobust                                         \n",
       "========================================================================================\n",
       "                           coef    std err          t      P>|t|      [0.025      0.975]\n",
       "----------------------------------------------------------------------------------------\n",
       "const                   56.8126     12.441      4.566      0.000      31.328      82.297\n",
       "Percent_edu             -0.1150      0.203     -0.568      0.575      -0.530       0.300\n",
       "Income               -7.947e-05   7.03e-05     -1.131      0.268      -0.000    6.45e-05\n",
       "Homeownership_number    -0.0001   8.11e-05     -1.357      0.186      -0.000    5.61e-05\n",
       "==============================================================================\n",
       "Omnibus:                        0.823   Durbin-Watson:                   1.684\n",
       "Prob(Omnibus):                  0.663   Jarque-Bera (JB):                0.788\n",
       "Skew:                           0.343   Prob(JB):                        0.674\n",
       "Kurtosis:                       2.651   Cond. No.                     9.32e+05\n",
       "==============================================================================\n",
       "\n",
       "Notes:\n",
       "[1] Standard Errors assume that the covariance matrix of the errors is correctly specified.\n",
       "[2] The condition number is large, 9.32e+05. This might indicate that there are\n",
       "strong multicollinearity or other numerical problems.\n",
       "\"\"\""
      ]
     },
     "execution_count": 62,
     "metadata": {},
     "output_type": "execute_result"
    }
   ],
   "source": [
    "merged_df = sm.OLS(endog=merged_df[['Recycling_rate']], exog=sm.add_constant(merged_df_VIF)).fit()\n",
    "merged_df.summary()"
   ]
  },
  {
   "cell_type": "markdown",
   "id": "d5869919-be1f-4faa-9f42-27b7a9f6edbe",
   "metadata": {},
   "source": [
    "## Residual analysis"
   ]
  },
  {
   "cell_type": "code",
   "execution_count": 64,
   "id": "caa6023c-cb21-4aaf-86a7-c140f85ba90f",
   "metadata": {},
   "outputs": [
    {
     "data": {
      "image/png": "[encoded data removed]",
      "text/plain": [
       "<Figure size 800x600 with 1 Axes>"
      ]
     },
     "metadata": {},
     "output_type": "display_data"
    }
   ],
   "source": [
    "# Residuals vs. Fitted plot\n",
    "\n",
    "# Set the figure size\n",
    "plt.figure(figsize=(8, 6))  \n",
    "# alpha = 0.5: controlling the transparency of the markers. Here alpha = 0.5 means that the markers are semi-transparent.\n",
    "# s = 20: controlling the size of the markers. The default value is plt.rcParams['lines.markersize'] ** 2. Here we set it as 20.\n",
    "# To get the default value of marker size, run the following line\n",
    "# print(plt.rcParams['lines.markersize'] ** 2) \n",
    "plt.scatter(merged_df.fittedvalues, merged_df.resid, alpha = 0.5, s=20)\n",
    "# plt.scatter(model_bike_rental.fittedvalues, model_bike_rental.resid, alpha = 0.5)\n",
    "# adding title and labels\n",
    "plt.xlabel('Fitted recycling rate')\n",
    "plt.ylabel('Residual')\n",
    "plt.title('Residual vs. Fitted Plot of recycling rate')\n",
    "# Adding grid lines\n",
    "plt.grid(True)\n",
    "plt.show()"
   ]
  },
  {
   "cell_type": "code",
   "execution_count": 65,
   "id": "6ea168e4-3f68-4453-8853-625b877fbc9c",
   "metadata": {},
   "outputs": [
    {
     "data": {
      "image/png": "[encoded data removed]",
      "text/plain": [
       "<Figure size 800x600 with 1 Axes>"
      ]
     },
     "metadata": {},
     "output_type": "display_data"
    }
   ],
   "source": [
    "# Histogram of residuals\n",
    "\n",
    "# Set the figure size\n",
    "plt.figure(figsize=(8, 6))  \n",
    "\n",
    "# Plotting the histogram\n",
    "plt.hist(merged_df.resid, bins=20, color='skyblue', edgecolor='black', alpha=0.7)\n",
    "\n",
    "# Adding labels and title\n",
    "plt.xlabel('Residuals')\n",
    "plt.ylabel('Frequency')\n",
    "plt.title('Histogram of Residuals of the recycling rate')\n",
    "\n",
    "# Adding grid lines (optional)\n",
    "plt.grid(True)\n",
    "\n",
    "# Display the plot\n",
    "plt.show()"
   ]
  },
  {
   "cell_type": "code",
   "execution_count": 67,
   "id": "d68e4af6-9396-4068-9778-ecaba88687c6",
   "metadata": {},
   "outputs": [
    {
     "name": "stdout",
     "output_type": "stream",
     "text": [
      "The p value of the rainbow test: 0.0054\n"
     ]
    }
   ],
   "source": [
    "test_rainbow = statsmodels.stats.diagnostic.linear_rainbow(merged_df)\n",
    "# This function returns a tuple consisting of two values: the test statistic based on the F test and the pvalue of the test\n",
    "# Note that these two values are not named. Therefore, you need to know the order before accessing these two values.\n",
    "print(\"The p value of the rainbow test: {:.4f}\".format(test_rainbow[1]))"
   ]
  },
  {
   "cell_type": "code",
   "execution_count": 68,
   "id": "035df0ad-4e0f-4e1d-a414-8c9ac5d77a75",
   "metadata": {},
   "outputs": [
    {
     "name": "stdout",
     "output_type": "stream",
     "text": [
      "                                   lb_stat  \\\n",
      "1                                     0.26   \n",
      "2                                     0.30   \n",
      "3                                     0.30   \n",
      "4                                     3.04   \n",
      "5                                     3.12   \n",
      "6                                     4.06   \n",
      "\n",
      "                                 lb_pvalue  \n",
      "1                                     0.61  \n",
      "2                                     0.86  \n",
      "3                                     0.96  \n",
      "4                                     0.55  \n",
      "5                                     0.68  \n",
      "6                                     0.67  \n",
      "The maximum p value of the Ljung Box test: 0.9604\n"
     ]
    }
   ],
   "source": [
    "test_Ljung_Box = statsmodels.stats.diagnostic.acorr_ljungbox(merged_df.resid)\n",
    "# print the result\n",
    "print(test_Ljung_Box)\n",
    "print(\"The maximum p value of the Ljung Box test: {:.4f}\".format(test_Ljung_Box.lb_pvalue.max()))"
   ]
  },
  {
   "cell_type": "code",
   "execution_count": null,
   "id": "4a74dc5a-f87e-4a54-b2bb-3412a363ad09",
   "metadata": {},
   "outputs": [],
   "source": [
    "As all p values of this test is greater than the significance level of 0.05, we will not reject the hypothesis and conlude that the residuals are independent."
   ]
  },
  {
   "cell_type": "code",
   "execution_count": 69,
   "id": "69b19b6e-737a-4d8f-9e83-bae459bd73a9",
   "metadata": {},
   "outputs": [
    {
     "name": "stdout",
     "output_type": "stream",
     "text": [
      "The p value of the Jarque Bera test: 0.6742\n"
     ]
    }
   ],
   "source": [
    "test_JB = statsmodels.stats.stattools.jarque_bera(merged_df.resid)\n",
    "print(\"The p value of the Jarque Bera test: {:.4f}\".format(test_JB[1]))"
   ]
  },
  {
   "cell_type": "markdown",
   "id": "e6fdf467-8015-4c63-ace2-909a4931e042",
   "metadata": {},
   "source": [
    "As the p value is greater than 0.05, we will not reject the null hypothesis and conclude that the residuals are normally distributed."
   ]
  },
  {
   "cell_type": "code",
   "execution_count": null,
   "id": "49b9134e-5272-4c2e-a4e8-e571173f2698",
   "metadata": {},
   "outputs": [],
   "source": []
  }
 ],
 "metadata": {
  "kernelspec": {
   "display_name": "Python 3 (ipykernel)",
   "language": "python",
   "name": "python3"
  },
  "language_info": {
   "codemirror_mode": {
    "name": "ipython",
    "version": 3
   },
   "file_extension": ".py",
   "mimetype": "text/x-python",
   "name": "python",
   "nbconvert_exporter": "python",
   "pygments_lexer": "ipython3",
   "version": "3.11.5"
  }
 },
 "nbformat": 4,
 "nbformat_minor": 5
}
